{
 "cells": [
  {
   "cell_type": "markdown",
   "metadata": {},
   "source": [
    "# Notebook with functions to solve a Wordle puzzle"
   ]
  },
  {
   "cell_type": "code",
   "execution_count": 14,
   "metadata": {},
   "outputs": [],
   "source": [
    "import csv\n",
    "from collections import defaultdict\n",
    "from math import log2"
   ]
  },
  {
   "cell_type": "markdown",
   "metadata": {},
   "source": [
    "## Get the set of possible guess and solution words"
   ]
  },
  {
   "cell_type": "code",
   "execution_count": 70,
   "metadata": {},
   "outputs": [],
   "source": [
    "with open(\"solutions_raw.txt\", newline='') as file:\n",
    "    reader = csv.reader(file, delimiter=\"\\t\")\n",
    "    soln_set = {row[1] for row in reader}\n",
    "# Guesses also include possible solutions\n",
    "with open(\"guesses_raw.txt\", newline='') as file:\n",
    "    reader = csv.reader(file, delimiter=\"\\t\")\n",
    "    guess_set = {row[0].upper() for row in reader}"
   ]
  },
  {
   "cell_type": "markdown",
   "metadata": {},
   "source": [
    "## Create the entropy tree"
   ]
  },
  {
   "cell_type": "code",
   "execution_count": 83,
   "metadata": {},
   "outputs": [],
   "source": [
    "WORD_LEN = 5\n",
    "def get_tile_overlap(guess: str, soln: str) -> str:\n",
    "    \"\"\"Return the tiles result of guessing 'guess' when the solution is 'soln'.\n",
    "    All misses would be 'bbbbb', all correct would be 'ggggg', all correct but wrong order would be 'yyyyy''\"\"\"\n",
    "    # Start with all misses\n",
    "    tiles = [\"b\"]*WORD_LEN\n",
    "    # Set all the correct letters green\n",
    "    for i in range(len(guess)):\n",
    "        if guess[i] == soln[i]:\n",
    "            tiles[i] =\"g\"\n",
    "    # Get the remaining letters for both the guess and the solution\n",
    "    guess_rest = [(i, letter) for i, letter in enumerate(guess) if tiles[i]!=\"g\"]\n",
    "    soln_rest = [letter for i, letter in enumerate(soln) if tiles[i]!=\"g\"]\n",
    "    # All the remaining letters are wrong, can just mark the first ones yellow\n",
    "    for i, letter in guess_rest:\n",
    "        if letter in soln_rest:\n",
    "            tiles[i] = \"y\"\n",
    "            soln_rest.remove(letter)\n",
    "    return \"\".join(tiles)\n",
    "\n",
    "def split_tree(guess: str, soln_subset: set[str]) -> defaultdict[str, set[str]]:\n",
    "    \"\"\"Create a dictionary with keys being possible tile results from guessing 'guess' (bbbbb, ybbbg, etc), \n",
    "    and values beings sets of words that could still be solutions\"\"\"\n",
    "    tree: defaultdict[str, set[str]] = defaultdict(set)\n",
    "    for word in soln_subset:\n",
    "        tree[get_tile_overlap(guess, word)].add(word)\n",
    "    return tree\n",
    "\n",
    "def calc_entropy(proportions: list[float]) -> float:\n",
    "    \"\"\"Calculates the entropy of the proportions given\"\"\"\n",
    "    return -1*sum([p*log2(p) for p in proportions])\n",
    "\n",
    "def split_entropy(guess: str, soln_subset: set[str]):\n",
    "    \"\"\"Calculate the entropy for 'guess' and the 'soln_subset', \n",
    "    to measure how much information we gain about the solution from this guess\"\"\"\n",
    "    tree = split_tree(guess, soln_subset)\n",
    "    denom = len(soln_subset)\n",
    "    proportions = [len(subset)/denom for subset in tree.values()]\n",
    "    return calc_entropy(proportions)\n",
    "\n",
    "def get_best_guess(soln_subset: set[str]) -> str:\n",
    "    \"\"\"Find the guess that creates the highest entropy split in the given solution subset\"\"\"\n",
    "    # Note that we check every possible guess, including words that might not be the answer\n",
    "    if len(soln_subset) == 1:\n",
    "        return soln_subset.pop()\n",
    "    entropies = [(split_entropy(guess, soln_subset), guess) for _, guess in enumerate(guess_set)]\n",
    "    best_guess = max(entropies)[1]\n",
    "    return best_guess"
   ]
  },
  {
   "cell_type": "markdown",
   "metadata": {},
   "source": [
    "## Get the best first guess"
   ]
  },
  {
   "cell_type": "code",
   "execution_count": 72,
   "metadata": {},
   "outputs": [
    {
     "name": "stdout",
     "output_type": "stream",
     "text": [
      "SOARE\n"
     ]
    }
   ],
   "source": [
    "first_guess = get_best_guess(soln_set)\n",
    "print(first_guess)"
   ]
  },
  {
   "cell_type": "markdown",
   "metadata": {},
   "source": [
    "## Get the best possible move given the previous guesses and results\n",
    "This lets the user get the optimal move from any point, after any previous guesses"
   ]
  },
  {
   "cell_type": "code",
   "execution_count": 73,
   "metadata": {},
   "outputs": [],
   "source": [
    "def get_cur_set(history: list[tuple[str, str]]) -> set[str]:\n",
    "    \"\"\"Get the current set of possible solutions by splitting using the given history\"\"\"\n",
    "    current_set = soln_set\n",
    "    for guess, result in history:\n",
    "        current_set = split_tree(guess.upper(), current_set)[result]\n",
    "    return current_set"
   ]
  },
  {
   "cell_type": "markdown",
   "metadata": {},
   "source": [
    "In order to use, add a tuple to the end of the below list for each guess you have made in the format of (\"GUESS\", \"xxxxx\"), where the first item is the word you guessed and the second item is a string representation of the result of that guess, where b=black tile, y=yellow tile, and g=green tile. The best first guess is SOARE"
   ]
  },
  {
   "cell_type": "code",
   "execution_count": 92,
   "metadata": {},
   "outputs": [
    {
     "data": {
      "text/plain": [
       "'CLINT'"
      ]
     },
     "execution_count": 92,
     "metadata": {},
     "output_type": "execute_result"
    }
   ],
   "source": [
    "get_best_guess(get_cur_set(\n",
    "    [(\"SOARE\", \"bbbbb\")]\n",
    "    ))"
   ]
  },
  {
   "cell_type": "code",
   "execution_count": null,
   "metadata": {},
   "outputs": [],
   "source": []
  }
 ],
 "metadata": {
  "kernelspec": {
   "display_name": "base",
   "language": "python",
   "name": "python3"
  },
  "language_info": {
   "codemirror_mode": {
    "name": "ipython",
    "version": 3
   },
   "file_extension": ".py",
   "mimetype": "text/x-python",
   "name": "python",
   "nbconvert_exporter": "python",
   "pygments_lexer": "ipython3",
   "version": "3.12.2"
  }
 },
 "nbformat": 4,
 "nbformat_minor": 2
}
